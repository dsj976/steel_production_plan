{
 "cells": [
  {
   "cell_type": "markdown",
   "id": "3ea74304",
   "metadata": {},
   "source": [
    "# API Demo\n",
    "\n",
    "This demo demonstrates how the API works. Make sure you follow the instructions in the `README.md` file first, and that the app is running on port 8000."
   ]
  },
  {
   "cell_type": "markdown",
   "id": "84618b51",
   "metadata": {},
   "source": [
    "The `utils` module contains some helper functions to interact with the API."
   ]
  },
  {
   "cell_type": "code",
   "execution_count": 1,
   "id": "940f944d",
   "metadata": {},
   "outputs": [],
   "source": [
    "from utils import upload_excel, get_forecast, get_db_table"
   ]
  },
  {
   "cell_type": "markdown",
   "id": "9ffae9b0",
   "metadata": {},
   "source": [
    "## 1. Import Excel files\n",
    "\n",
    "The first step is to upload the Excel files in the `input_files` directory. You can upload the files in any order."
   ]
  },
  {
   "cell_type": "code",
   "execution_count": 2,
   "id": "8d751c2b",
   "metadata": {},
   "outputs": [
    {
     "name": "stdout",
     "output_type": "stream",
     "text": [
      "200\n"
     ]
    }
   ],
   "source": [
    "filepath = \"input_files/daily_charge_schedule.xlsx\"\n",
    "response = upload_excel(filepath)\n",
    "print(response.status_code)"
   ]
  },
  {
   "cell_type": "code",
   "execution_count": 3,
   "id": "980bbd8c",
   "metadata": {},
   "outputs": [
    {
     "name": "stdout",
     "output_type": "stream",
     "text": [
      "200\n"
     ]
    }
   ],
   "source": [
    "filepath = \"input_files/product_groups_monthly.xlsx\"\n",
    "response = upload_excel(filepath)\n",
    "print(response.status_code)"
   ]
  },
  {
   "cell_type": "code",
   "execution_count": 4,
   "id": "2d192957",
   "metadata": {},
   "outputs": [
    {
     "name": "stdout",
     "output_type": "stream",
     "text": [
      "200\n"
     ]
    }
   ],
   "source": [
    "filepath = \"input_files/steel_grade_production.xlsx\"\n",
    "response = upload_excel(filepath)\n",
    "print(response.status_code)"
   ]
  },
  {
   "cell_type": "markdown",
   "id": "3e2c0078",
   "metadata": {},
   "source": [
    "## 2. Inspect the database tables\n",
    "\n",
    "The API contains endpoints to query the database tables populated with the Excel files uploaded in the cells above."
   ]
  },
  {
   "cell_type": "markdown",
   "id": "5641c583",
   "metadata": {},
   "source": [
    "Let's first explore the `groups` and `grades` tables, which store the product groups and steel grades, respectively."
   ]
  },
  {
   "cell_type": "code",
   "execution_count": 5,
   "id": "85ee0c5a",
   "metadata": {},
   "outputs": [
    {
     "name": "stdout",
     "output_type": "stream",
     "text": [
      "200\n"
     ]
    }
   ],
   "source": [
    "response = get_db_table(\"groups\")\n",
    "print(response.status_code)"
   ]
  },
  {
   "cell_type": "code",
   "execution_count": 6,
   "id": "c54bd7a6",
   "metadata": {},
   "outputs": [
    {
     "data": {
      "text/plain": [
       "[{'id': 1, 'group': 'Rebar'},\n",
       " {'id': 2, 'group': 'MBQ'},\n",
       " {'id': 3, 'group': 'SBQ'},\n",
       " {'id': 4, 'group': 'CHQ'}]"
      ]
     },
     "execution_count": 6,
     "metadata": {},
     "output_type": "execute_result"
    }
   ],
   "source": [
    "response.json()"
   ]
  },
  {
   "cell_type": "code",
   "execution_count": 7,
   "id": "b2285e58",
   "metadata": {},
   "outputs": [
    {
     "name": "stdout",
     "output_type": "stream",
     "text": [
      "200\n"
     ]
    }
   ],
   "source": [
    "response = get_db_table(\"grades\")\n",
    "print(response.status_code)"
   ]
  },
  {
   "cell_type": "markdown",
   "id": "8fbfcd7e",
   "metadata": {},
   "source": [
    "The Excel files do not provide group information for all steel grades, so some of them don't have a group associated with them."
   ]
  },
  {
   "cell_type": "code",
   "execution_count": 8,
   "id": "de58d2d6",
   "metadata": {},
   "outputs": [
    {
     "data": {
      "text/plain": [
       "[{'id': 1, 'name': 'B500B', 'group': 'Rebar'},\n",
       " {'id': 2, 'name': 'B500C', 'group': 'Rebar'},\n",
       " {'id': 3, 'name': 'A53/C591', 'group': 'CHQ'},\n",
       " {'id': 4, 'name': 'A53/C592', 'group': None},\n",
       " {'id': 5, 'name': 'A53/C593', 'group': None},\n",
       " {'id': 6, 'name': 'A53/C594', 'group': None},\n",
       " {'id': 7, 'name': 'A53/C595', 'group': None},\n",
       " {'id': 8, 'name': 'A53/C596', 'group': None},\n",
       " {'id': 9, 'name': 'A53/C597', 'group': None},\n",
       " {'id': 10, 'name': 'A53/C598', 'group': None},\n",
       " {'id': 11, 'name': 'A53/C599', 'group': None},\n",
       " {'id': 12, 'name': 'A53/C600', 'group': None},\n",
       " {'id': 13, 'name': 'B500A', 'group': 'Rebar'},\n",
       " {'id': 14, 'name': 'C35', 'group': 'SBQ'},\n",
       " {'id': 15, 'name': 'C40', 'group': 'SBQ'},\n",
       " {'id': 16, 'name': 'A36', 'group': 'MBQ'},\n",
       " {'id': 17, 'name': 'A5888', 'group': 'MBQ'},\n",
       " {'id': 18, 'name': 'GR50', 'group': 'MBQ'},\n",
       " {'id': 19, 'name': '44W', 'group': 'MBQ'},\n",
       " {'id': 20, 'name': '50W', 'group': 'MBQ'},\n",
       " {'id': 21, 'name': '55W', 'group': 'MBQ'},\n",
       " {'id': 22, 'name': '60W', 'group': 'MBQ'},\n",
       " {'id': 23, 'name': 'S235JR', 'group': 'SBQ'},\n",
       " {'id': 24, 'name': 'S355J', 'group': 'SBQ'},\n",
       " {'id': 25, 'name': 'A53/A543', 'group': 'CHQ'}]"
      ]
     },
     "execution_count": 8,
     "metadata": {},
     "output_type": "execute_result"
    }
   ],
   "source": [
    "response.json()"
   ]
  },
  {
   "cell_type": "markdown",
   "id": "ed048657",
   "metadata": {},
   "source": [
    "Let's now explore the \"daily_schedule\" table, which stores the daily schedule of heats to be made each day."
   ]
  },
  {
   "cell_type": "code",
   "execution_count": 9,
   "id": "a65ea24b",
   "metadata": {},
   "outputs": [
    {
     "name": "stdout",
     "output_type": "stream",
     "text": [
      "200\n"
     ]
    }
   ],
   "source": [
    "response = get_db_table(\"daily_schedules\")\n",
    "print(response.status_code)"
   ]
  },
  {
   "cell_type": "code",
   "execution_count": 10,
   "id": "48a351b8",
   "metadata": {},
   "outputs": [
    {
     "data": {
      "text/plain": [
       "dict_keys(['2024-08-30', '2024-08-31', '2024-09-01'])"
      ]
     },
     "execution_count": 10,
     "metadata": {},
     "output_type": "execute_result"
    }
   ],
   "source": [
    "response.json().keys()"
   ]
  },
  {
   "cell_type": "markdown",
   "id": "09aeab7f",
   "metadata": {},
   "source": [
    "Check the schedule for 30 August 2024."
   ]
  },
  {
   "cell_type": "code",
   "execution_count": 11,
   "id": "5db2ae29",
   "metadata": {},
   "outputs": [
    {
     "data": {
      "text/plain": [
       "[{'time_start': '00:14', 'grade': 'B500B', 'mould_size': '5\"'},\n",
       " {'time_start': '01:25', 'grade': 'B500B', 'mould_size': '5\"'},\n",
       " {'time_start': '02:36', 'grade': 'B500B', 'mould_size': '5\"'},\n",
       " {'time_start': '03:47', 'grade': 'B500C', 'mould_size': '5\"'},\n",
       " {'time_start': '14:00', 'grade': 'A53/C591', 'mould_size': '6\" RD'},\n",
       " {'time_start': '15:11', 'grade': 'A53/C592', 'mould_size': '6\" RD'},\n",
       " {'time_start': '16:22', 'grade': 'A53/C593', 'mould_size': '6\" RD'},\n",
       " {'time_start': '17:33', 'grade': 'A53/C594', 'mould_size': '6\" RD'},\n",
       " {'time_start': '18:44', 'grade': 'A53/C595', 'mould_size': '6\" RD'},\n",
       " {'time_start': '19:55', 'grade': 'A53/C596', 'mould_size': '6\" RD'},\n",
       " {'time_start': '21:06', 'grade': 'A53/C597', 'mould_size': '6\" RD'},\n",
       " {'time_start': '22:17', 'grade': 'A53/C598', 'mould_size': '6\" RD'},\n",
       " {'time_start': '23:28', 'grade': 'A53/C599', 'mould_size': '6\" RD'}]"
      ]
     },
     "execution_count": 11,
     "metadata": {},
     "output_type": "execute_result"
    }
   ],
   "source": [
    "response.json()[\"2024-08-30\"]"
   ]
  },
  {
   "cell_type": "markdown",
   "id": "449f8c05",
   "metadata": {},
   "source": [
    "Next we explore the `monthly_group_plan` DB table, which stores a coarse breakdown of heats produced on a monthly basis for each product group."
   ]
  },
  {
   "cell_type": "code",
   "execution_count": 12,
   "id": "c0d9e277",
   "metadata": {},
   "outputs": [
    {
     "name": "stdout",
     "output_type": "stream",
     "text": [
      "200\n"
     ]
    }
   ],
   "source": [
    "response = get_db_table(\"monthly_plans\")\n",
    "print(response.status_code)"
   ]
  },
  {
   "cell_type": "code",
   "execution_count": 13,
   "id": "c265b43f",
   "metadata": {},
   "outputs": [
    {
     "data": {
      "text/plain": [
       "dict_keys(['2024-06', '2024-07', '2024-08', '2024-09'])"
      ]
     },
     "execution_count": 13,
     "metadata": {},
     "output_type": "execute_result"
    }
   ],
   "source": [
    "response.json().keys()"
   ]
  },
  {
   "cell_type": "markdown",
   "id": "5148f512",
   "metadata": {},
   "source": [
    "Check the production plan for September 2024."
   ]
  },
  {
   "cell_type": "code",
   "execution_count": 14,
   "id": "bbac08ea",
   "metadata": {},
   "outputs": [
    {
     "data": {
      "text/plain": [
       "[{'group': 'Rebar', 'heats': 232},\n",
       " {'group': 'MBQ', 'heats': 54},\n",
       " {'group': 'SBQ', 'heats': 10},\n",
       " {'group': 'CHQ', 'heats': 22}]"
      ]
     },
     "execution_count": 14,
     "metadata": {},
     "output_type": "execute_result"
    }
   ],
   "source": [
    "response.json()[\"2024-09\"]"
   ]
  },
  {
   "cell_type": "markdown",
   "id": "2f112a4d",
   "metadata": {},
   "source": [
    "Similarly we can check the grade-level production breakdown by inspecting the `monthly_breakdown` table."
   ]
  },
  {
   "cell_type": "code",
   "execution_count": 15,
   "id": "bf78a11e",
   "metadata": {},
   "outputs": [
    {
     "name": "stdout",
     "output_type": "stream",
     "text": [
      "200\n"
     ]
    }
   ],
   "source": [
    "response = get_db_table(\"monthly_breakdown\")\n",
    "print(response.status_code)"
   ]
  },
  {
   "cell_type": "code",
   "execution_count": 16,
   "id": "a4002619",
   "metadata": {},
   "outputs": [
    {
     "data": {
      "text/plain": [
       "dict_keys(['2024-06', '2024-07', '2024-08'])"
      ]
     },
     "execution_count": 16,
     "metadata": {},
     "output_type": "execute_result"
    }
   ],
   "source": [
    "response.json().keys()"
   ]
  },
  {
   "cell_type": "code",
   "execution_count": 17,
   "id": "4c537040",
   "metadata": {},
   "outputs": [
    {
     "data": {
      "text/plain": [
       "[{'grade': 'B500B', 'tons': 10822},\n",
       " {'grade': 'B500C', 'tons': 4756},\n",
       " {'grade': 'A53/C591', 'tons': 2541},\n",
       " {'grade': 'B500A', 'tons': 8989},\n",
       " {'grade': 'C35', 'tons': 0},\n",
       " {'grade': 'C40', 'tons': 603},\n",
       " {'grade': 'A36', 'tons': 199},\n",
       " {'grade': 'A5888', 'tons': 0},\n",
       " {'grade': 'GR50', 'tons': 0},\n",
       " {'grade': '44W', 'tons': 3112},\n",
       " {'grade': '50W', 'tons': 2879},\n",
       " {'grade': '55W', 'tons': 0},\n",
       " {'grade': '60W', 'tons': 0},\n",
       " {'grade': 'S235JR', 'tons': 0},\n",
       " {'grade': 'S355J', 'tons': 0},\n",
       " {'grade': 'A53/A543', 'tons': 0}]"
      ]
     },
     "execution_count": 17,
     "metadata": {},
     "output_type": "execute_result"
    }
   ],
   "source": [
    "response.json()[\"2024-08\"]"
   ]
  },
  {
   "cell_type": "markdown",
   "id": "a9f7a375",
   "metadata": {},
   "source": [
    "## 3. Forecasting grade-level production\n",
    "\n",
    "The API has an endpoint to forecast the grade-level production for the last month in the `monthly_group_plan` table, which isn't present in the `monthly_breakdown` table of steel grades. The forecast is calculated by inferring how a product group splits across its grades historically, i.e. by calculating the mean contribution of each grade to its corresponding group and by applying that ratio to the planned group production in the forecasted month. An assumption used here is that 1 heat averages 100 tons of steel produced."
   ]
  },
  {
   "cell_type": "code",
   "execution_count": 18,
   "id": "ab0fbbf3",
   "metadata": {},
   "outputs": [
    {
     "name": "stdout",
     "output_type": "stream",
     "text": [
      "200\n"
     ]
    }
   ],
   "source": [
    "response = get_forecast()\n",
    "print(response.status_code)"
   ]
  },
  {
   "cell_type": "markdown",
   "id": "28a1025c",
   "metadata": {},
   "source": [
    "The endpoint returns a grade-level breakdown of forecasted heats, organized by product group."
   ]
  },
  {
   "cell_type": "code",
   "execution_count": 19,
   "id": "5dbba47f",
   "metadata": {},
   "outputs": [
    {
     "data": {
      "text/plain": [
       "{'Rebar': {'forecast_month': '2024-09',\n",
       "  'units': 'heats',\n",
       "  'forecast': {'B500B': 108, 'B500C': 34, 'B500A': 89}},\n",
       " 'MBQ': {'forecast_month': '2024-09',\n",
       "  'units': 'heats',\n",
       "  'forecast': {'A36': 1,\n",
       "   'A5888': 5,\n",
       "   'GR50': 9,\n",
       "   '44W': 18,\n",
       "   '50W': 17,\n",
       "   '55W': 3,\n",
       "   '60W': 0}},\n",
       " 'SBQ': {'forecast_month': '2024-09',\n",
       "  'units': 'heats',\n",
       "  'forecast': {'C35': 0, 'C40': 9, 'S235JR': 0, 'S355J': 0}},\n",
       " 'CHQ': {'forecast_month': '2024-09',\n",
       "  'units': 'heats',\n",
       "  'forecast': {'A53/C591': 8, 'A53/A543': 13}}}"
      ]
     },
     "execution_count": 19,
     "metadata": {},
     "output_type": "execute_result"
    }
   ],
   "source": [
    "response.json()"
   ]
  }
 ],
 "metadata": {
  "kernelspec": {
   "display_name": "steel_production_plan",
   "language": "python",
   "name": "python3"
  },
  "language_info": {
   "codemirror_mode": {
    "name": "ipython",
    "version": 3
   },
   "file_extension": ".py",
   "mimetype": "text/x-python",
   "name": "python",
   "nbconvert_exporter": "python",
   "pygments_lexer": "ipython3",
   "version": "3.12.7"
  }
 },
 "nbformat": 4,
 "nbformat_minor": 5
}
